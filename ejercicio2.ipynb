{
 "cells": [
  {
   "cell_type": "code",
   "execution_count": 3,
   "id": "311e1d63",
   "metadata": {},
   "outputs": [
    {
     "name": "stdout",
     "output_type": "stream",
     "text": [
      "Ingrese edad: 17\n",
      "Dato ingresado correctamente\n",
      "Menor de edad no tiene acceso\n"
     ]
    }
   ],
   "source": [
    "#Ejercicio 1, para ingresar a una discoteca, se pide que la persona introduzca\n",
    "#su edad en el sistema. Si la persona tiene 18 o mas a;os entonces ingresara\n",
    "edad= int(input(\"Ingrese edad: \"))\n",
    "if edad>0 and edad <100:\n",
    "    print(\"Dato ingresado correctamente\")\n",
    "    if edad>=18:\n",
    "        print(\" Acceso correcto\")\n",
    "    elif edad<18:\n",
    "        print(\"Menor de edad no tiene acceso\")\n",
    "else:\n",
    "    print(\"DATO INCORRECTO\")"
   ]
  },
  {
   "cell_type": "code",
   "execution_count": 6,
   "id": "039369ee",
   "metadata": {},
   "outputs": [
    {
     "name": "stdout",
     "output_type": "stream",
     "text": [
      "Inserte primer numero->5\n",
      "Inserte segundo numero->2\n",
      "primer numero es impar, segundo numero par\n"
     ]
    }
   ],
   "source": [
    "#ejercicio 3, construir un codigo que pida 2 numeros y se;ale si alguno de ellos\n",
    "# es par o si ambos lo son\n",
    "x1= int(input(\"Inserte primer numero->\"))\n",
    "x2= int(input(\"Inserte segundo numero->\"))\n",
    "if x1%2==0 and x2%2 ==0:\n",
    "    print(\"ambos son pares\")\n",
    "elif x1%2==0 and x2%2 !=0:\n",
    "    print(\"primer numero es par, segundo numero impar\")\n",
    "elif x1%2!=0 and x2%2 ==0:\n",
    "    print(\"primer numero es impar, segundo numero par\")\n",
    "else:\n",
    "    print(\"ambos numeros son impares\")\n",
    "        "
   ]
  },
  {
   "cell_type": "code",
   "execution_count": 8,
   "id": "aae83a42",
   "metadata": {},
   "outputs": [
    {
     "name": "stdout",
     "output_type": "stream",
     "text": [
      "Inserte una letra:a\n",
      "vocal\n"
     ]
    }
   ],
   "source": [
    "#Dise;ar u codigo que pida una letra e idique si esta letra es vocal o consonante\n",
    "#funcion para minuscula .lower()  para mayusculas .upper()\n",
    "letra= input(\"Inserte una letra:\").lower()\n",
    "if letra ==\"a\" or letra ==\"e\"or letra ==\"i\"or letra ==\"o\"or letra ==\"u\" : # la frase o PUEDE SER DISYUNTIVA\n",
    "    print(\"vocal\")\n",
    "else:\n",
    "    print(\"consonante\")"
   ]
  },
  {
   "cell_type": "code",
   "execution_count": 9,
   "id": "32b47bc8",
   "metadata": {},
   "outputs": [
    {
     "name": "stdout",
     "output_type": "stream",
     "text": [
      "Ingrese numero: -10\n",
      "ERROR: el numero debe ser Positivo**\n",
      "Ingrese numero: 4\n",
      "la raiz cuadrada es 2.00\n"
     ]
    }
   ],
   "source": [
    "#Librerias, conjunto de codigos q' ayudan a optimizar el tiempo de programacion\n",
    "#math, pandas, matplotlib, pyplot, seaborn\n",
    "#importamos libreria\n",
    "#calcule raiz cuadrada de un numero no negativo, si el num es negativo,\n",
    "#entonces que el comando muestre mensaje error\n",
    "import math\n",
    "num= int(input(\"Ingrese numero: \"))\n",
    "while num<0:\n",
    "    print(\"ERROR: el numero debe ser Positivo**\")\n",
    "    num= int(input(\"Ingrese numero: \"))\n",
    "print(f\"la raiz cuadrada es {(math.sqrt(num)):.2f}\")# para redondear.2f fixes   \n",
    "\n"
   ]
  },
  {
   "cell_type": "code",
   "execution_count": null,
   "id": "455508f3",
   "metadata": {},
   "outputs": [],
   "source": []
  },
  {
   "cell_type": "code",
   "execution_count": null,
   "id": "1b77f24f",
   "metadata": {},
   "outputs": [],
   "source": []
  }
 ],
 "metadata": {
  "kernelspec": {
   "display_name": "Python 3 (ipykernel)",
   "language": "python",
   "name": "python3"
  },
  "language_info": {
   "codemirror_mode": {
    "name": "ipython",
    "version": 3
   },
   "file_extension": ".py",
   "mimetype": "text/x-python",
   "name": "python",
   "nbconvert_exporter": "python",
   "pygments_lexer": "ipython3",
   "version": "3.9.12"
  }
 },
 "nbformat": 4,
 "nbformat_minor": 5
}
